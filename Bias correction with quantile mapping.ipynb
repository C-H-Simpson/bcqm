{
 "cells": [
  {
   "cell_type": "code",
   "execution_count": 1,
   "metadata": {},
   "outputs": [],
   "source": [
    "import config_public\n",
    "import BCQM_public\n",
    "import helper\n",
    "import matplotlib.pyplot as plt\n",
    "import dataprocessing\n",
    "import numpy as np\n",
    "import pandas as pd\n",
    "from pandas.plotting import register_matplotlib_converters\n",
    "register_matplotlib_converters()"
   ]
  },
  {
   "cell_type": "markdown",
   "metadata": {},
   "source": [
    "### Load example data"
   ]
  },
  {
   "cell_type": "code",
   "execution_count": 2,
   "metadata": {},
   "outputs": [
    {
     "name": "stdout",
     "output_type": "stream",
     "text": [
      "DatetimeIndex(['1979-01-01', '1979-01-02', '1979-01-03', '1979-01-04',\n",
      "               '1979-01-05', '1979-01-06', '1979-01-07', '1979-01-08',\n",
      "               '1979-01-09', '1979-01-10',\n",
      "               ...\n",
      "               '2017-12-22', '2017-12-23', '2017-12-24', '2017-12-25',\n",
      "               '2017-12-26', '2017-12-27', '2017-12-28', '2017-12-29',\n",
      "               '2017-12-30', '2017-12-31'],\n",
      "              dtype='datetime64[ns]', name='time', length=14235, freq=None)\n",
      "DatetimeIndex(['1979-01-01', '1979-01-02', '1979-01-03', '1979-01-04',\n",
      "               '1979-01-05', '1979-01-06', '1979-01-07', '1979-01-08',\n",
      "               '1979-01-09', '1979-01-10',\n",
      "               ...\n",
      "               '2017-12-22', '2017-12-23', '2017-12-24', '2017-12-25',\n",
      "               '2017-12-26', '2017-12-27', '2017-12-28', '2017-12-29',\n",
      "               '2017-12-30', '2017-12-31'],\n",
      "              dtype='datetime64[ns]', name='time', length=14235, freq=None)\n"
     ]
    }
   ],
   "source": [
    "x = helper.open_pickle('./data/example_model.txt')      # Model timeseries \n",
    "y = helper.open_pickle('./data/example_observed.txt')   # Observation timeseries \n",
    "\n",
    "# Get historical data x (predictor model) and y (target observation) by overlapping dates\n",
    "x_hist, y_hist = dataprocessing.intersect(x, y)\n",
    "\n",
    "# Check dates (1979 - 2017 will be the calibration period)\n",
    "print(x_hist.index)\n",
    "print(y_hist.index)"
   ]
  },
  {
   "cell_type": "code",
   "execution_count": 3,
   "metadata": {},
   "outputs": [
    {
     "name": "stdout",
     "output_type": "stream",
     "text": [
      "DatetimeIndex(['2018-01-01', '2018-01-02', '2018-01-03', '2018-01-04',\n",
      "               '2018-01-05', '2018-01-06', '2018-01-07', '2018-01-08',\n",
      "               '2018-01-09', '2018-01-10',\n",
      "               ...\n",
      "               '2050-12-22', '2050-12-23', '2050-12-24', '2050-12-25',\n",
      "               '2050-12-26', '2050-12-27', '2050-12-28', '2050-12-29',\n",
      "               '2050-12-30', '2050-12-31'],\n",
      "              dtype='datetime64[ns]', name='time', length=12045, freq=None)\n"
     ]
    }
   ],
   "source": [
    "# Get future model data\n",
    "x_fut = x[str(x_hist.index[-1].year + 1):'2050']\n",
    "print(x_fut.index)\n",
    "\n",
    "# We use quantile mapping bias correction to get future projection y_fut for these dates.\n",
    "# i.e. learn mapping function y_hist=f(x_hist) to get y_fut=f(x_fut)"
   ]
  },
  {
   "cell_type": "markdown",
   "metadata": {},
   "source": [
    "## (1) Load config\n",
    "\n",
    "### Config() arguments:\n",
    "\n",
    "#### Detrending method\n",
    "* MODE=\n",
    "* 'timeseries': No detrending - does not preserve long term trend of model (not recommended)\n",
    "* 'detrended_pdf': Robust detrending (detrends using rolling window pdf mean i.e. accounts for difference in trends in different times of year). Default rolling window days: detrend_window_days=31\n",
    "* 'detrended_polynomial': Polynomial fit detrending. Seasonal differences in long term trend ignored.\n",
    "(Note: difference in scores is more apparent in perfect sibling test (longer time period) than k-fold)\n",
    "\n",
    "#### Number of quantiles\n",
    "* n_quantiles=80: Number of quantiles to map in 'vanilla' quantile mapping. \n",
    "\n",
    "#### Data: must be pandas dataframe with 365 days in each year (not tested for incomplete days in a year).\n",
    "* x_hist: model historical\n",
    "* y_hist: observed historical\n",
    "* x_fut: model future\n",
    "\n",
    "### Other options:\n",
    "\n",
    "* detrend_order=2: Polynomial order for fitting long term trends in 'detrended_pdf' and 'detrended_polynomial' detrending methods (recommended: 2)\n",
    "* K=5: Number of folds in K-fold cross validation\n",
    "* window_days=15: Rolling window days i.e. ±15 from the current day (total 31 datapoints per pdf).\n",
    "\n",
    "#### Current limitations:\n",
    "* x_hist and x_fut must be continuous\n",
    "* Must have 365 days in each year\n",
    "* Each datapoint in projected timeseries based on average from corrected pdf based on rolling window (default window_days is 15)"
   ]
  },
  {
   "cell_type": "code",
   "execution_count": 4,
   "metadata": {},
   "outputs": [
    {
     "name": "stdout",
     "output_type": "stream",
     "text": [
      "Original data loaded.\n",
      "Processing trend info on 1D data\n",
      "Processing x\n",
      "Getting trend data, config.MODE = detrended_pdf...\n",
      "Processing y\n",
      "Getting trend data, config.MODE = detrended_pdf...\n",
      "Loaded config.\n",
      "CPU times: user 31.9 s, sys: 1.98 s, total: 33.9 s\n",
      "Wall time: 26.8 s\n"
     ]
    }
   ],
   "source": [
    "%%time\n",
    "conf = config_public.Config(MODE='detrended_pdf',\n",
    "                            n_quantiles=80,\n",
    "                            x_hist=x_hist,\n",
    "                            y_hist=y_hist,\n",
    "                            x_fut=x_fut,\n",
    "                            )"
   ]
  },
  {
   "cell_type": "markdown",
   "metadata": {},
   "source": [
    "## (2) Get bias corrected future projection (optional K-fold validation score)"
   ]
  },
  {
   "cell_type": "markdown",
   "metadata": {},
   "source": [
    "* (Output) y_fut: future projection"
   ]
  },
  {
   "cell_type": "code",
   "execution_count": 5,
   "metadata": {},
   "outputs": [
    {
     "name": "stdout",
     "output_type": "stream",
     "text": [
      "Generating pdf for training data...\n",
      "Training model...\n",
      "Correcting x_test timeseries...\n",
      "Generating pdf for test data...\n",
      "Done: adjusted result at self.corrected_timeseries (may be in detrended form; not necessarily projection)\n",
      "Obtaining projected timeseries...\n",
      "Done: projected timeseries at self.projected_timeseries\n",
      "\n",
      "Running K-fold cross validation experiment. Set RUN_KFOLD=False to skip.\n",
      "K = 1/5\n",
      "Generating pdf for training data...\n",
      "Training model...\n",
      "Correcting x_test timeseries...\n",
      "Generating pdf for test data...\n",
      "Done: adjusted result at self.corrected_timeseries (may be in detrended form; not necessarily projection)\n",
      "Comparing corrected timeseries to y_test (truth):\n",
      "Generating pdf for adjusted & truth data...\n",
      "Calculating scores...\n",
      "     RMSE for this k = 0.8192408138284399\n",
      "K = 2/5\n",
      "Generating pdf for training data...\n",
      "Training model...\n",
      "Correcting x_test timeseries...\n",
      "Generating pdf for test data...\n",
      "Done: adjusted result at self.corrected_timeseries (may be in detrended form; not necessarily projection)\n",
      "Comparing corrected timeseries to y_test (truth):\n",
      "Generating pdf for adjusted & truth data...\n",
      "Calculating scores...\n",
      "     RMSE for this k = 0.8739912248555429\n",
      "K = 3/5\n",
      "Generating pdf for training data...\n",
      "Training model...\n",
      "Correcting x_test timeseries...\n",
      "Generating pdf for test data...\n",
      "Done: adjusted result at self.corrected_timeseries (may be in detrended form; not necessarily projection)\n",
      "Comparing corrected timeseries to y_test (truth):\n",
      "Generating pdf for adjusted & truth data...\n",
      "Calculating scores...\n",
      "     RMSE for this k = 0.9562125598499964\n",
      "K = 4/5\n",
      "Generating pdf for training data...\n",
      "Training model...\n",
      "Correcting x_test timeseries...\n",
      "Generating pdf for test data...\n",
      "Done: adjusted result at self.corrected_timeseries (may be in detrended form; not necessarily projection)\n",
      "Comparing corrected timeseries to y_test (truth):\n",
      "Generating pdf for adjusted & truth data...\n",
      "Calculating scores...\n",
      "     RMSE for this k = 1.0121731749799072\n",
      "K = 5/5\n",
      "Generating pdf for training data...\n",
      "Training model...\n",
      "Correcting x_test timeseries...\n",
      "Generating pdf for test data...\n",
      "Done: adjusted result at self.corrected_timeseries (may be in detrended form; not necessarily projection)\n",
      "Comparing corrected timeseries to y_test (truth):\n",
      "Generating pdf for adjusted & truth data...\n",
      "Calculating scores...\n",
      "     RMSE for this k = 1.097698719213987\n",
      "\n",
      "K-fold scores: \n",
      "RMSE = 0.9518632985455747, \n",
      "RMSE (summer) = 0.9101512313135277, \n",
      "KS test score = 0.13822609658226098, \n",
      "KS test score (summer) = 0.14312692138779096\n",
      "(Access at self.results)\n",
      "CPU times: user 4min 17s, sys: 9.14 s, total: 4min 27s\n",
      "Wall time: 4min 20s\n"
     ]
    }
   ],
   "source": [
    "%%time\n",
    "# RUN_KFOLD=True: Option to run K-fold experiments (uses historical period x_hist and y_hist).\n",
    "# Takes longer - set to False if you just want projection data.\n",
    "\n",
    "bc = BCQM_public.BiasCorrection(conf)\n",
    "y_fut = bc.get_projection(RUN_KFOLD=True)"
   ]
  },
  {
   "cell_type": "code",
   "execution_count": 6,
   "metadata": {},
   "outputs": [
    {
     "name": "stdout",
     "output_type": "stream",
     "text": [
      "                  data\n",
      "date_raw              \n",
      "2018-01-01  282.773556\n",
      "2018-01-02  284.224959\n",
      "2018-01-03  283.917080\n",
      "2018-01-04  283.759829\n",
      "2018-01-05  284.181244\n"
     ]
    }
   ],
   "source": [
    "print(y_fut.head())"
   ]
  },
  {
   "cell_type": "markdown",
   "metadata": {},
   "source": [
    "### Plot results"
   ]
  },
  {
   "cell_type": "code",
   "execution_count": 7,
   "metadata": {},
   "outputs": [
    {
     "data": {
      "image/png": "[encoded data removed]",
      "text/plain": [
       "<Figure size 432x288 with 1 Axes>"
      ]
     },
     "metadata": {
      "needs_background": "light"
     },
     "output_type": "display_data"
    }
   ],
   "source": [
    "smooth_curves = False\n",
    "smooth_window = 5\n",
    "alpha = 0.7\n",
    "\n",
    "plt.figure()\n",
    "y_plot = helper.smooth_savgol(x_hist.values.squeeze(), window=smooth_window) if smooth_curves else x_hist.values.squeeze()\n",
    "plt.plot(x_hist.index,\n",
    "         y_plot,\n",
    "         label='Predictor model'\n",
    "         )\n",
    "\n",
    "y_plot = helper.smooth_savgol(y_hist.values.squeeze(), window=smooth_window) if smooth_curves else y_hist.values.squeeze()\n",
    "plt.plot(y_hist.index,\n",
    "         y_plot,\n",
    "         alpha=alpha,\n",
    "         label='Observation'\n",
    "         )\n",
    "\n",
    "y_plot = helper.smooth_savgol(y_fut.values.squeeze(), window=smooth_window) if smooth_curves else y_fut.values.squeeze()\n",
    "plt.plot(y_fut.index,\n",
    "         y_plot,\n",
    "         alpha=alpha,\n",
    "         label='Projection'\n",
    "         )\n",
    "\n",
    "plt.xlabel(\"Time\")\n",
    "plt.ylabel(\"Maximum daily temperature\")\n",
    "plt.legend()\n",
    "plt.show()"
   ]
  },
  {
   "cell_type": "code",
   "execution_count": null,
   "metadata": {},
   "outputs": [],
   "source": []
  },
  {
   "cell_type": "code",
   "execution_count": null,
   "metadata": {},
   "outputs": [],
   "source": []
  },
  {
   "cell_type": "code",
   "execution_count": null,
   "metadata": {},
   "outputs": [],
   "source": []
  }
 ],
 "metadata": {
  "kernelspec": {
   "display_name": "Python 3",
   "language": "python",
   "name": "python3"
  },
  "language_info": {
   "codemirror_mode": {
    "name": "ipython",
    "version": 3
   },
   "file_extension": ".py",
   "mimetype": "text/x-python",
   "name": "python",
   "nbconvert_exporter": "python",
   "pygments_lexer": "ipython3",
   "version": "3.8.2"
  }
 },
 "nbformat": 4,
 "nbformat_minor": 2
}
